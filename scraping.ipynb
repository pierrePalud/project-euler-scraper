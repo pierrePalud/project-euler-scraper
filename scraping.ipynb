{
 "cells": [
  {
   "cell_type": "markdown",
   "metadata": {},
   "source": [
    "# Text transformation"
   ]
  },
  {
   "cell_type": "code",
   "execution_count": null,
   "metadata": {},
   "outputs": [],
   "source": [
    "import string\n",
    "from nltk.corpus import stopwords\n",
    "from nltk.stem.snowball import SnowballStemmer\n",
    "from sklearn.feature_extraction.text import CountVectorizer\n",
    "import numpy as np\n",
    "\n",
    "sw = stopwords.words('english')\n",
    "\n",
    "# create an object of stemming function\n",
    "stemmer = SnowballStemmer(\"english\")"
   ]
  },
  {
   "cell_type": "code",
   "execution_count": null,
   "metadata": {},
   "outputs": [],
   "source": [
    "def remove_ponctuation(text):\n",
    "    '''a function for removing punctuation'''\n",
    "    # replacing the punctuations with no space, \n",
    "    # which in effect deletes the punctuation marks \n",
    "    translator = str.maketrans('', '', string.punctuation)\n",
    "    # return the text stripped of punctuation marks\n",
    "    return text.translate(translator)\n",
    "\n",
    "\n",
    "def remove_stopwords(text):\n",
    "    '''a function for removing the stopword'''\n",
    "    # removing the stop words and lowercasing the selected words\n",
    "    text = [word.lower() for word in text.split() if word.lower() not in sw]\n",
    "    # joining the list of words with space separator\n",
    "    return \" \".join(text)\n",
    "\n",
    "def remove_digits(text):\n",
    "    translator = str.maketrans('', '', string.digits)\n",
    "    return text.translate(translator)\n",
    "\n",
    "\n",
    "def filter_non_alpha(text):\n",
    "    text = [word for word in text.split() if word.isalpha()]\n",
    "    # joining the list of words with space separator\n",
    "    return \" \".join(text)\n",
    "\n",
    "\n",
    "def unique_words(text):\n",
    "    text = set([word for word in text.split()])\n",
    "    # joining the list of words with space separator\n",
    "    return \" \".join(text)\n",
    "\n",
    "\n",
    "def stemming(text):    \n",
    "    '''a function which stems each word in the given text'''\n",
    "    text = [stemmer.stem(word) for word in text.split()]\n",
    "    return \" \".join(text) "
   ]
  },
  {
   "cell_type": "code",
   "execution_count": null,
   "metadata": {},
   "outputs": [],
   "source": [
    "df_euler['description_work'] = df_euler['title'] + ' ' + df_euler['description']\n",
    "\n",
    "df_euler['description_work'] = df_euler['description_work'].apply(filter_non_alpha)\n",
    "df_euler['description_work'] = df_euler['description_work'].apply(remove_ponctuation)\n",
    "df_euler['description_work'] = df_euler['description_work'].apply(remove_stopwords)\n",
    "df_euler['description_work'] = df_euler['description_work'].apply(stemming)\n",
    "df_euler['description_work'] = df_euler['description_work'].apply(unique_words)\n",
    "\n",
    "df_euler['description_work'] = df_euler['description_work'].apply(lambda x: ' '.join(x.split()))"
   ]
  },
  {
   "cell_type": "code",
   "execution_count": null,
   "metadata": {},
   "outputs": [],
   "source": [
    "df_euler[['description', 'description_work']].head()"
   ]
  },
  {
   "cell_type": "code",
   "execution_count": null,
   "metadata": {},
   "outputs": [],
   "source": [
    "df_euler[df_euler['description_work'].str.contains('totient')]"
   ]
  },
  {
   "cell_type": "markdown",
   "metadata": {},
   "source": [
    "# Topics Analysis"
   ]
  },
  {
   "cell_type": "code",
   "execution_count": null,
   "metadata": {},
   "outputs": [],
   "source": [
    "list_ = df_euler['description_work'].tolist()\n",
    "list_ = ' '.join(list_).split()\n",
    "val, counts = np.unique(list_, return_counts=True)\n",
    "\n",
    "df_counts = pd.DataFrame(counts, index=val, columns=['counts'])\n",
    "df_counts = df_counts[(df_counts['counts'] >= 10) & (df_counts.index.str.len() >= 2)]"
   ]
  },
  {
   "cell_type": "code",
   "execution_count": null,
   "metadata": {},
   "outputs": [],
   "source": [
    "df_counts.sort_values('counts', ascending=False).head(20)"
   ]
  },
  {
   "cell_type": "code",
   "execution_count": null,
   "metadata": {},
   "outputs": [],
   "source": [
    "df_counts.loc['prime']"
   ]
  },
  {
   "cell_type": "code",
   "execution_count": null,
   "metadata": {},
   "outputs": [],
   "source": []
  }
 ],
 "metadata": {
  "kernelspec": {
   "display_name": "Python 3",
   "language": "python",
   "name": "python3"
  },
  "language_info": {
   "codemirror_mode": {
    "name": "ipython",
    "version": 3
   },
   "file_extension": ".py",
   "mimetype": "text/x-python",
   "name": "python",
   "nbconvert_exporter": "python",
   "pygments_lexer": "ipython3",
   "version": "3.7.4"
  }
 },
 "nbformat": 4,
 "nbformat_minor": 4
}
